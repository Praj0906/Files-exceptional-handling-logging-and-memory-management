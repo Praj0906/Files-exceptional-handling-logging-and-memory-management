{
  "nbformat": 4,
  "nbformat_minor": 0,
  "metadata": {
    "colab": {
      "provenance": []
    },
    "kernelspec": {
      "name": "python3",
      "display_name": "Python 3"
    },
    "language_info": {
      "name": "python"
    }
  },
  "cells": [
    {
      "cell_type": "markdown",
      "source": [
        "# THEORITICAL QUESTIONS:\n",
        "\n",
        "1. What is the difference between interpreted and compiled languages?\n",
        "\n",
        " Ans: The key difference between compiled and interpreted languages lies in how the code you write is translated and executed by the computer: In Compiled Languages the entire source code is translated into machine code (a language the computer understands directly) in one go, using a program called  a compiler. This creates an executable file.The executable file can be run directly by the computer. The compiler checks for errors before execution, so you catch them early in the development process. Compiled code is often specific to a particular operating system or architecture. You might need to recompile the code for different platforms. In Interpreted Languages the code is translated and executed line by line by a program called an interpreter. The interpreter reads and executes the code directly, without creating a separate executable file. Interpreted code tends to be slower because translation happens during execution. Errors are often caught during runtime, which can sometimes make debugging easier. Interpreted code can often run on different platforms without modification, as long as an interpreter is available.\n",
        "\n",
        "2. What is exception handling in Python?\n",
        "\n",
        " Ans: Exception handling in Python is a mechanism to deal with errors that occur during the execution of a program. These errors, called exceptions, can disrupt the normal flow of the program if they aren&#39;t handled. Without exception handling, an unhandled exception will typically terminate the program abruptly. Exception handling lets you anticipate potential problems and provide alternative actions. For instance, if a file can&#39;t be found, you could prompt the user for a different file instead of crashing. Exception handling is a crucial part of writing robust and reliable Python code. It allows you to anticipate and handle errors gracefully, preventing your programs from crashing and providing a better user experience.\n",
        "\n",
        "3. What is the purpose of the finally block in exceptional handling ?\n",
        "\n",
        " Ans: The finally block in exception handling serves the crucial purpose of ensuring that certain code is always executed, regardless of whether an exception was raised or not. Its primary use is for cleanup tasks. Think of it as the &quot;no matter what&quot; clause. Common examples include closing files that were opened, releasing network connections, or freeing up other resources. Even if an error occurs and is caught (or not caught), the code within the finally block will run, guaranteeing that these essential cleanup operations are performed, preventing resource leaks and ensuring program stability.\n",
        "\n",
        "4. What is logging in Python?\n",
        "\n",
        " Ans: Logging in Python is a way to record events that occur during the execution of a program. It's a crucial tool for debugging, monitoring, and understanding how your code behaves. Instead of just printing information to the console (which can be messy and difficult to manage for complex applications), logging allows you to categorize and prioritize messages, save them to files, and control the level of detail you want to capture. This makes it much easier to track down errors, analyze performance, and gain insights into your program's operation, especially in production environments. Python's built-in logging module provides a flexible and powerful way to implement logging in your applications.\n",
        "\n",
        "5. What is the significance of the __del__ method in python?\n",
        "\n",
        " Ans: The __del__ method (also called the destructor) in Python is a special method that is automatically called when an object is about to be garbage collected. Garbage collection is the process by which Python reclaims memory that is no longer being used by the program. Its main purpose is to release external resources (like closing files or network connections). However, its timing is unpredictable, making it unreliable. It's generally better to use with statements (context managers) or explicit close() methods for resource management, as they are more reliable and predictable. Avoid relying on __del__ if possible.\n",
        "\n",
        "6. What is the difference between import and from …import in Python ?\n",
        "\n",
        " Ans:Import brings an entire module into your namespace, requiring you to use the module name to access its contents (e.g., import math) whereas from ... import lets you import specific items from a module directly into your namespace, allowing you to use them without the module prefix (e.g., from math import sqrt; sqrt(2)). from ... import * imports everything from a module, but this is generally discouraged due to potential naming conflicts. Essentially, import is safer and more organized, while from ... import can be more concise for frequently used items.\n",
        "\n",
        "7. How can you handle multiple exceptions in Python?\n",
        "\n",
        " Ans: You can handle multiple exceptions in Python using several except blocks within a single try block. Each except block can be designed to catch a specific type of exception. Python will try the code in the try block, and if an exception occurs, it will look for the first matching except block to execute. You can also include a general except block (without a specific exception type) at the end to catch any remaining exceptions that weren't handled by the more specific blocks. This allows you to create robust error-handling logic for various potential issues.\n",
        "\n",
        "8. What is the purpose of the with statement when handling files in Python?\n",
        "\n",
        " Ans: The with statement in Python, when used with files (or other context managers), provides a convenient and robust way to manage resources. Its primary purpose is to ensure that resources are properly cleaned up (like closing files) even if exceptions occur. The with block automatically handles the setup and teardown phases, guaranteeing that cleanup code is always executed, preventing resource leaks and making your code cleaner and more reliable. It's the recommended way to work with files in Python.\n",
        "\n",
        "9. What is the difference between multithreading and multiprocessing?\n",
        "\n",
        " Ans: Multithreading and multiprocessing are both ways to achieve concurrency in Python, allowing you to run multiple tasks seemingly at the same time. However, they differ in how they achieve this:\n",
        "\n",
        " i) Multithreading: Involves running multiple threads within a single process. Threads share the same memory space, which can make communication between them easier but also introduces potential issues like race conditions and deadlocks. Multithreading is often used for I/O-bound tasks (waiting for input/output), where the threads can taketurns while waiting.\n",
        "\n",
        " ii) Multiprocessing: Involves running multiple processes, each with its own separate memory space. This avoids the issues of shared memory but makes communication between processes more complex. Multiprocessing is better suited for CPU-bound tasks (computationally intensive), where the processes can run truly in parallel on multiple CPU cores.\n",
        "\n",
        " In a nutshell, Multithreading is lighter and easier for I/O-bound tasks, while multiprocessing is heavier but better for CPU-bound tasks and avoids shared memory issues.\n",
        "\n",
        "10. What are the advantages of using logging in a program?\n",
        "\n",
        " Ans: Using logging in a program offers several key advantages: Detailed Information: Logging allows you to record a wide range of events, from errors and warnings to informational messages and debugging details, giving you a comprehensive view of your program's execution. Categorization and Prioritization: You can categorize log messages by severity (debug, info, warning, error, critical) and prioritize them, making it easy to filter and focus on important events. Persistent Records: Logs can be saved to files, allowing you to review them later for debugging, analysis, or monitoring, even after the program has finished running. Flexibility and Control: Python's logging module provides a high degree of flexibility, allowing you to customize the format of log messages, the destination of logs (console, files, network), and the level of detail you want to capture. Improved Debugging: Logging makes it easier to track down the root cause of errors by providing a trail of events leading up to the issue. Monitoring and Analysis: Logs can be used to monitor the performance and behavior of your application in production, helping you identify bottlenecks or other issues.\n",
        "\n",
        " Auditing and Compliance: In some cases, logging is required for auditing purposes or to comply with regulatory requirements.\n",
        "\n",
        "11. What is memory management in Python?\n",
        "\n",
        " Ans: Memory management in Python is the process of allocating and deallocating memory to store objects and data structures during program execution. Python uses a combination of techniques, primarily automatic memory management, to handle this. This means you, as the programmer, generally don't have to manually allocate or free memory like in some other languages (like C or C++). Python automatically allocates memory for objects as they are created. You don't need to explicitly request memory. Python's memory management is largely automatic, simplifying development. Garbage collection handles the deallocation of unused memory, preventing memory leaks, and reference counting is the primary mechanism for this, supplemented by cyclic garbage collection for more complex scenarios.\n",
        "\n",
        "12. What are the basic steps involved in exception handling in Python?\n",
        "\n",
        " Ans: Exception handling in Python involves these basic steps: A try block contains code that might raise an exception then one or more except blocks specify how to handle specific exceptions. If an exception occurs within the try block, Python looks for a matching except block. Then the code in the matching except block is executed. An optional finally block contains code that always runs, regardless of whether an exception occurred.\n",
        "\n",
        "13. Why is memory management important in Python?\n",
        "\n",
        " Ans: Memory management is crucial in Python (and any language) because it ensures that your program uses memory efficiently and avoids problems like memory leaks. Proper memory management prevents your program from crashing due to running out of memory and helps it run smoothly and reliably. It also frees the programmer from manually tracking memory allocation, making development faster and less error-prone.\n",
        "\n",
        "14. What is the role of try and except in exceptional handling in exception handling?\n",
        "\n",
        " Ans: In exception handling, the try block contains the code that you suspect might raise an exception. The except block defines how to handle that specific exception if it occurs. The try block is where you &quot;try&quot; to do something, and the except block is where you &quot;catch&quot; and deal with any errors that arise.\n",
        "\n",
        "15. How does python&#39;s garbage collection system work?\n",
        "\n",
        " Ans: Python&#39;s garbage collection primarily uses reference counting. Every object has a counter that tracks how many things are referencing it. When that count drops to zero, the object is no longer accessible, and its memory can be reclaimed. Python also has a cyclic garbage collector that handles situations where objects reference each other in a way that prevents their reference counts from ever reaching zero, even if they are no longer used by the program. This cyclic garbage collector detects and cleans up these &quot;circular references.&quot;\n",
        "\n",
        "16. What is the purpose of the else block in exception in exception handling?\n",
        "\n",
        " Ans: The else block in exception handling is executed only if no exceptions occur within the associated try block. It&#39;s a way to separate code that should run only when the try block completes successfully without raising any exceptions. It helps keep your code organized and makes it clearer what happens when things go as planned versus when errors occur.\n",
        "\n",
        "17. What are the common logging levels in Python?\n",
        "\n",
        " Ans: The common logging levels in Python, in order of increasing severity, are: Debug: Detailed information, typically used for debugging purposes. Info: General information about program execution.Warning: Indicates a potential issue or something unexpected, but the program usually continues to run. Error: A significant problem that might affect the program&#39;s functionality. Critical: A severe error that likely leads to program termination.\n",
        "\n",
        "18. What is the difference between os.fork () and multiprocessing in Python?\n",
        "\n",
        " Ans: os.fork()creates a new process by duplicating the current process.The new process (the child) is almost an exact copy of the original (the parent), including its memory space and program counter. However, after the fork() call, the parent and child execute independently. Multiprocessing creates new processes with separate memory. It is cross-platform, provides more features, and is generally preferred for Python multiprocessing. It provides a higher-level interface. The multiprocessing module offers more features for managing processes, inter-process communication (IPC), and process pools. It works more consistently across different operating systems, including Windows. It doesn't directly duplicate the parent process&#39;s memory in the same way os.fork() does; instead, it typically creates a fresh process and then can use mechanisms like pickling to pass data to it.\n",
        "\n",
        "19. What is importance of closing a file in Python?\n",
        "\n",
        " Ans: Closing a file in Python is important because it releases the resources associated with the file. This includes flushing any remaining data from the buffer to the disk, freeing up the file handle, and allowing other programs or processes to access the file. Failing to close a file can can lead to data loss, file corruption, or resource exhaustion. It's crucial for ensuring data integrity and proper system operation. lead to data loss, file corruption, or resource exhaustion. Its crucial for ensuring data integrity and proper system operation.\n",
        "\n",
        "20. What is the difference between filed read() and file.readline() in python?\n",
        "\n",
        "  Ans: file.read(): This method reads the entire contents of a file as a single string. If you don't specify a size, it will read the whole file into memory at once. It's useful when you want to work with the entire file content as a single unit, like when you need to perform operations on the whole text. file.readline(): This method reads a file line by line. Each time you call it, it reads one line (including the newline character at the end) and returns it as a string. It's helpful when you want to process a file line by line, especially for large files that might not fit into memory entirely. In short we can say file.read() reads the whole file as one string, while file.readline() reads the file one line at a time.\n",
        "\n",
        "21. What is the logging module in Python used for?\n",
        "\n",
        " Ans: The logging module in Python is used for recording events that occur during the execution of a program. It provides a flexible and powerful way to generate logs, which are helpful for debugging, monitoring, and understanding how a program behaves. Instead of just printing information to the console, logging allows you to categorize messages by severity (debug, info, warning, error, critical), save them to files, and control the level of detail you want to capture. This makes it much easier to track down errors, analyze performance, and gain insights into your program&#39;s operation, especially in production environments.\n",
        "\n",
        "22. What is the OS module in Python used for in file handling?\n",
        "\n",
        " Ans: The os module in Python lets you interact with the operating system, making it very useful for file handling. It provides functions to manage files and directories (create, delete, rename, list), work with file paths, and get file information (size, modification time). It&#39;s essential for any file-related task in Python.\n",
        "\n",
        "23. What are the challenges associated with memory management in Python?\n",
        "\n",
        " Ans: Python&#39;s automatic memory management is helpful, but challenges exist. Memory leaks can still occur with complex circular references. Garbage collection timing is unpredictable, and fragmentation can hinder large allocations. Garbage collection itself adds overhead, and external resources must be managed separately. Although Python&#39;s cyclic garbage collector handles many circular references, complex scenarios can still lead to leaks if objects strongly reference each other, preventing collection. Python&#39;s garbage collection manages memory within the Python environment. It doesn&#39;t directly handle external resources like open files, network connections, or database connections. You need to manage these resources explicitly to avoid leaks.\n",
        "\n",
        "24. How do you raise and exception manually in Python?\n",
        "\n",
        " Ans: You can manually raise an exception in Python using the raise keyword. You specify the exception type you want to raise, and you can optionally include a message or other information associated with the exception. This immediately stops normal execution and looks for a matching except block. You can include a message with the exception. Here&#39;s how: raise Exception(&quot;Something went wrong!&quot;)\n",
        "\n",
        "25. Why is it important to use multithreading in certain applications?\n",
        "\n",
        " Ans: Multithreading is important in certain applications because it allows you to perform multiple tasks concurrently within a single process. This can significantly improve performance, especially for I/O- bound tasks (like waiting for network requests or file operations), where one thread can be waiting while others continue processing. It can also make applications more responsive by preventing them from becoming blocked on a single long-running task."
      ],
      "metadata": {
        "id": "fc-VD_FR3SpG"
      }
    },
    {
      "cell_type": "markdown",
      "source": [
        "# PRACTICAL QUESTIONS:"
      ],
      "metadata": {
        "id": "L5Vdgm5t3NaU"
      }
    },
    {
      "cell_type": "code",
      "execution_count": null,
      "metadata": {
        "colab": {
          "base_uri": "https://localhost:8080/"
        },
        "id": "yg_GsSIXVQOg",
        "outputId": "cb1a0d57-bc48-4da5-c6d5-002099d8ea26"
      },
      "outputs": [
        {
          "output_type": "stream",
          "name": "stdout",
          "text": [
            "File written successfully.\n",
            "File Content:\n",
            "Hello, this is a test file!\n"
          ]
        }
      ],
      "source": [
        "# 1. How can you open a file for writing in Python and write a string to it?\n",
        "\n",
        "with open(\"example.txt\", \"w\") as file:\n",
        "    file.write(\"Hello, this is a test file!\")\n",
        "\n",
        "print(\"File written successfully.\")\n",
        "\n",
        "with open(\"example.txt\", \"r\") as file:\n",
        "    content = file.read()\n",
        "\n",
        "print(\"File Content:\")\n",
        "print(content)"
      ]
    },
    {
      "cell_type": "code",
      "source": [
        "# 2. Write a Python program to read the contents of a file and print each line.\n",
        "\n",
        "with open(\"example.txt\", \"r\") as file:\n",
        "\n",
        "    for line in file:\n",
        "        print(line.strip())"
      ],
      "metadata": {
        "colab": {
          "base_uri": "https://localhost:8080/"
        },
        "id": "c-NcjJLsWdxR",
        "outputId": "5837e994-8317-4470-b9e6-6a450f41b496"
      },
      "execution_count": null,
      "outputs": [
        {
          "output_type": "stream",
          "name": "stdout",
          "text": [
            "Hello, this is a test file!\n"
          ]
        }
      ]
    },
    {
      "cell_type": "code",
      "source": [
        "# 3. How would you handle a case where the file doesn't exist while trying to open it for reading?\n",
        "\n",
        "import os\n",
        "\n",
        "file_name = \"example.txt\"\n",
        "\n",
        "# Check if the file exists\n",
        "if not os.path.exists(file_name):\n",
        "    try:\n",
        "        # If the file doesn't exist, create it and write \"Hello, World!\" to it\n",
        "        with open(file_name, \"w\") as file:\n",
        "            file.write(\"Hello, World!\")\n",
        "        print(f\"File '{file_name}' created with content.\")\n",
        "    except Exception as e:\n",
        "        print(f\"An error occurred while creating the file: {e}\")\n",
        "\n",
        "# Now open the file and read its content\n",
        "try:\n",
        "    with open(file_name, \"r\") as file:\n",
        "        content = file.read()\n",
        "    print(\"File Content:\")\n",
        "    print(content)\n",
        "except Exception as e:\n",
        "    print(f\"An error occurred while reading the file: {e}\")\n"
      ],
      "metadata": {
        "colab": {
          "base_uri": "https://localhost:8080/"
        },
        "id": "y2XAkza4XCM5",
        "outputId": "7bf888c9-808f-4994-b92b-2c05908a99d3"
      },
      "execution_count": null,
      "outputs": [
        {
          "output_type": "stream",
          "name": "stdout",
          "text": [
            "File Content:\n",
            "Hello, this is a test file!\n"
          ]
        }
      ]
    },
    {
      "cell_type": "code",
      "source": [
        "# 4. Write a Python script that reads from one file and writes its content to another file.\n",
        "\n",
        "def copy_file(source_file, destination_file):\n",
        "    \"\"\"\n",
        "    Copies the content of the source file to the destination file.\n",
        "\n",
        "    Args:\n",
        "        source_file: The path to the source file.\n",
        "        destination_file: The path to the destination file.\n",
        "    \"\"\"\n",
        "    try:\n",
        "        with open(source_file, 'r') as infile, open(destination_file, 'w') as outfile:\n",
        "            for line in infile:  # Efficiently reads line by line for large files.\n",
        "                outfile.write(line)\n",
        "        print(f\"File '{source_file}' copied to '{destination_file}' successfully.\")\n",
        "\n",
        "    except FileNotFoundError:\n",
        "        print(f\"Error: Source file '{source_file}' not found.\")\n",
        "    except Exception as e:\n",
        "        print(f\"An error occurred: {e}\")\n",
        "\n",
        "copy_file(source_filename, destination_filename)\n",
        "\n",
        "\n",
        "\n"
      ],
      "metadata": {
        "colab": {
          "base_uri": "https://localhost:8080/"
        },
        "id": "vSG6LlPAdV-Q",
        "outputId": "f8ccbd45-8b9a-4d6d-ee0c-b3cdc9053202"
      },
      "execution_count": 5,
      "outputs": [
        {
          "output_type": "stream",
          "name": "stdout",
          "text": [
            "File 'source.txt' copied to 'destination.txt' successfully.\n"
          ]
        }
      ]
    },
    {
      "cell_type": "code",
      "source": [
        "# 5. How would you catch and handle division by zero error in Python?\n",
        "\n",
        "try:\n",
        "    numerator = 10\n",
        "    denominator = 0\n",
        "    result = numerator / denominator  # This will raise ZeroDivisionError\n",
        "except ZeroDivisionError:\n",
        "    print(\"Error: Division by zero is not allowed.\")\n",
        "else:\n",
        "    print(\"Result:\", result)\n",
        "finally:\n",
        "    print(\"Execution completed.\")\n"
      ],
      "metadata": {
        "colab": {
          "base_uri": "https://localhost:8080/"
        },
        "id": "Q9MAz-47Y9oV",
        "outputId": "efc763c9-9923-4196-f030-336173c4d992"
      },
      "execution_count": 6,
      "outputs": [
        {
          "output_type": "stream",
          "name": "stdout",
          "text": [
            "Error: Division by zero is not allowed.\n",
            "Execution completed.\n"
          ]
        }
      ]
    },
    {
      "cell_type": "code",
      "source": [
        "# 6. Write a Python program that logs an error message to a log file when a division by zero exception occurs.\n",
        "\n",
        "import logging\n",
        "\n",
        "# Configure logging to write to a file\n",
        "logging.basicConfig(filename=\"error.log\", level=logging.ERROR, format=\"%(asctime)s - %(levelname)s - %(message)s\")\n",
        "\n",
        "def divide_numbers(a, b):\n",
        "    try:\n",
        "        result = a / b\n",
        "        print(\"Result:\", result)\n",
        "    except ZeroDivisionError:\n",
        "        logging.error(\"Attempted to divide by zero.\")\n",
        "        print(\"Error: Division by zero is not allowed.\")\n",
        "\n",
        "# Example usage\n",
        "divide_numbers(10, 0)\n"
      ],
      "metadata": {
        "colab": {
          "base_uri": "https://localhost:8080/"
        },
        "id": "o_RH1dUPY9k7",
        "outputId": "7c437236-6bc6-4570-8b5e-a5983c94657d"
      },
      "execution_count": 7,
      "outputs": [
        {
          "output_type": "stream",
          "name": "stderr",
          "text": [
            "ERROR:root:Attempted to divide by zero.\n"
          ]
        },
        {
          "output_type": "stream",
          "name": "stdout",
          "text": [
            "Error: Division by zero is not allowed.\n"
          ]
        }
      ]
    },
    {
      "cell_type": "code",
      "source": [
        "# 7. How do you log information at different levels (INFO, ERROR, WARNING) in Python using the logging module?\n",
        "\n",
        "import logging\n",
        "\n",
        "# Create logger\n",
        "logger = logging.getLogger()\n",
        "logger.setLevel(logging.DEBUG)  # Capture all log levels\n",
        "\n",
        "# Create file handler\n",
        "file_handler = logging.FileHandler(\"app.log\", mode=\"w\")  # Overwrite the file\n",
        "file_handler.setLevel(logging.DEBUG)\n",
        "\n",
        "# Create console handler\n",
        "console_handler = logging.StreamHandler()\n",
        "console_handler.setLevel(logging.DEBUG)  # Also show all logs in the console\n",
        "\n",
        "# Define log format\n",
        "formatter = logging.Formatter(\"%(asctime)s - %(levelname)s - %(message)s\")\n",
        "\n",
        "# Attach formatter to handlers\n",
        "file_handler.setFormatter(formatter)\n",
        "console_handler.setFormatter(formatter)\n",
        "\n",
        "# Add handlers to the logger\n",
        "logger.addHandler(file_handler)\n",
        "logger.addHandler(console_handler)\n",
        "\n",
        "# Logging messages at different levels\n",
        "logger.debug(\"This is a DEBUG message: Useful for diagnosing issues.\")\n",
        "logger.info(\"This is an INFO message: General event information.\")\n",
        "logger.warning(\"This is a WARNING message: Something unusual happened.\")\n",
        "logger.error(\"This is an ERROR message: A function failed to execute correctly.\")\n",
        "logger.critical(\"This is a CRITICAL message: The system is shutting down!\")\n",
        "\n",
        "print(\"Logging complete. Check 'app.log' for details.\")\n"
      ],
      "metadata": {
        "colab": {
          "base_uri": "https://localhost:8080/"
        },
        "id": "yk-zfP0qY9ik",
        "outputId": "23a680de-1ff7-4eb6-d18e-542ad12d065d"
      },
      "execution_count": 8,
      "outputs": [
        {
          "output_type": "stream",
          "name": "stderr",
          "text": [
            "DEBUG:root:This is a DEBUG message: Useful for diagnosing issues.\n",
            "2025-02-10 06:01:54,694 - DEBUG - This is a DEBUG message: Useful for diagnosing issues.\n",
            "INFO:root:This is an INFO message: General event information.\n",
            "2025-02-10 06:01:54,698 - INFO - This is an INFO message: General event information.\n",
            "WARNING:root:This is a WARNING message: Something unusual happened.\n",
            "2025-02-10 06:01:54,703 - WARNING - This is a WARNING message: Something unusual happened.\n",
            "ERROR:root:This is an ERROR message: A function failed to execute correctly.\n",
            "2025-02-10 06:01:54,707 - ERROR - This is an ERROR message: A function failed to execute correctly.\n",
            "CRITICAL:root:This is a CRITICAL message: The system is shutting down!\n",
            "2025-02-10 06:01:54,711 - CRITICAL - This is a CRITICAL message: The system is shutting down!\n"
          ]
        },
        {
          "output_type": "stream",
          "name": "stdout",
          "text": [
            "Logging complete. Check 'app.log' for details.\n"
          ]
        }
      ]
    },
    {
      "cell_type": "code",
      "source": [
        "# 8.  Write a program to handle a file opening error using exception handling.\n",
        "\n",
        "def read_file(filename):\n",
        "    try:\n",
        "        with open(filename, \"r\") as file:\n",
        "            content = file.read()\n",
        "            print(\"File content:\\n\", content)\n",
        "    except FileNotFoundError:\n",
        "        print(f\"Error: The file '{filename}' was not found.\")\n",
        "    except PermissionError:\n",
        "        print(f\"Error: Permission denied while trying to open '{filename}'.\")\n",
        "    except Exception as e:\n",
        "        print(f\"An unexpected error occurred: {e}\")\n",
        "\n",
        "# Example usage\n",
        "filename = \"non_existent_file.txt\"\n",
        "read_file(filename)\n",
        "\n",
        "# testing with an existing file\n",
        "with open(\"example.txt\", \"w\") as f:\n",
        "    f.write(\"Hello, World!\")\n",
        "\n",
        "def read_file(filename):\n",
        "    try:\n",
        "        with open(filename, \"r\") as file:\n",
        "            content = file.read()\n",
        "            print(\"File content:\\n\", content)\n",
        "    except FileNotFoundError:\n",
        "        print(f\"Error: The file '{filename}' was not found.\")\n",
        "    except PermissionError:\n",
        "        print(f\"Error: Permission denied while trying to open '{filename}'.\")\n",
        "    except Exception as e:\n",
        "        print(f\"An unexpected error occurred: {e}\")\n",
        "\n",
        "# Using an existing file\n",
        "filename = \"example.txt\"  # Ensure this file exists\n",
        "read_file(filename)\n"
      ],
      "metadata": {
        "id": "Tpzv7u-nYw4Y",
        "colab": {
          "base_uri": "https://localhost:8080/"
        },
        "outputId": "68e43591-9f75-4358-8753-ed68be2b5a11"
      },
      "execution_count": 10,
      "outputs": [
        {
          "output_type": "stream",
          "name": "stdout",
          "text": [
            "Error: The file 'non_existent_file.txt' was not found.\n",
            "File content:\n",
            " Hello, World!\n"
          ]
        }
      ]
    },
    {
      "cell_type": "code",
      "source": [
        "# 9. How can you read a file line by line and store its content in a list in Python?\n",
        "\n",
        "def create_example_file():\n",
        "    # Creating the 'example.txt' file with sample content\n",
        "    with open(\"example.txt\", \"w\") as file:\n",
        "        file.write(\"Hello\\n\")\n",
        "        file.write(\"World\\n\")\n",
        "        file.write(\"This is a file\\n\")\n",
        "\n",
        "def read_file_to_list(filename):\n",
        "    try:\n",
        "        with open(filename, \"r\") as file:\n",
        "            lines = file.readlines()\n",
        "            return [line.strip() for line in lines]\n",
        "    except FileNotFoundError:\n",
        "        print(f\"Error: The file '{filename}' was not found.\")\n",
        "        return []\n",
        "    except Exception as e:\n",
        "        print(f\"An unexpected error occurred: {e}\")\n",
        "        return []\n",
        "\n",
        "# Create the example file\n",
        "create_example_file()\n",
        "\n",
        "# Read content from the example.txt file into a list\n",
        "filename = \"example.txt\"\n",
        "content_list = read_file_to_list(filename)\n",
        "\n",
        "# Print the list of lines\n",
        "print(\"File content as list:\", content_list)\n"
      ],
      "metadata": {
        "id": "bRkBeF7HYw1k",
        "colab": {
          "base_uri": "https://localhost:8080/"
        },
        "outputId": "bdd39890-f071-4d9c-9f16-ed3d07db53d7"
      },
      "execution_count": null,
      "outputs": [
        {
          "output_type": "stream",
          "name": "stdout",
          "text": [
            "File content as list: ['Hello', 'World', 'This is a file']\n"
          ]
        }
      ]
    },
    {
      "cell_type": "code",
      "source": [
        "# 10. How can you append data to an existing file in Python?\n",
        "\n",
        "def create_example_file():\n",
        "    # Creating the 'example.txt' file with initial content\n",
        "    with open(\"example.txt\", \"w\") as file:\n",
        "        file.write(\"Hello\\n\")\n",
        "        file.write(\"World\\n\")\n",
        "        file.write(\"This is a file\\n\")\n",
        "\n",
        "def append_to_file(filename, data):\n",
        "\n",
        "    try:\n",
        "        with open(filename, \"a\") as file:  # Open file in append mode\n",
        "            file.write(data + \"\\n\")  # Write new data and add a new line\n",
        "            print(f\"Data appended to '{filename}' successfully.\")\n",
        "    except Exception as e:\n",
        "        print(f\"An error occurred: {e}\")\n",
        "\n",
        "def read_file(filename):\n",
        "    try:\n",
        "        with open(filename, \"r\") as file:\n",
        "            content = file.read()  # Reads the entire file content as a string\n",
        "            return content  # Return the content as plain text\n",
        "    except FileNotFoundError:\n",
        "        print(f\"Error: The file '{filename}' was not found.\")\n",
        "        return \"\"\n",
        "    except Exception as e:\n",
        "        print(f\"An unexpected error occurred: {e}\")\n",
        "        return \"\"\n",
        "\n",
        "# Create the example file with initial content\n",
        "create_example_file()\n",
        "\n",
        "# Append new data to the file\n",
        "filename = \"example.txt\"\n",
        "data_to_append = \"This is a new line added to the file.\"\n",
        "append_to_file(filename, data_to_append)\n",
        "\n",
        "# Read and print the file content after appending (as plain text)\n",
        "content = read_file(filename)\n",
        "print(\"File content after appending:\\n\", content)\n"
      ],
      "metadata": {
        "id": "JFPiYAq6XBRO",
        "colab": {
          "base_uri": "https://localhost:8080/"
        },
        "outputId": "ed586d02-54f6-4383-caaa-f48f7abcf37e"
      },
      "execution_count": null,
      "outputs": [
        {
          "output_type": "stream",
          "name": "stdout",
          "text": [
            "Data appended to 'example.txt' successfully.\n",
            "File content after appending:\n",
            " Hello\n",
            "World\n",
            "This is a file\n",
            "This is a new line added to the file.\n",
            "\n"
          ]
        }
      ]
    },
    {
      "cell_type": "code",
      "source": [
        "# 11. Write a Python program that uses a try-except block to handle an error when attempting to access a dictionary key that doesn't exist.\n",
        "\n",
        "my_dict = {\"name\": \"Alice\", \"age\": 25}\n",
        "\n",
        "try:\n",
        "    value = my_dict[\"address\"]  # Attempting to access a non-existent key\n",
        "except KeyError:\n",
        "    print(\"KeyError: The key 'address' does not exist in the dictionary.\")\n"
      ],
      "metadata": {
        "colab": {
          "base_uri": "https://localhost:8080/"
        },
        "id": "TQdWxZKxnFYq",
        "outputId": "bf7931e1-ae42-4554-fbd5-831e31e2feb5"
      },
      "execution_count": 11,
      "outputs": [
        {
          "output_type": "stream",
          "name": "stdout",
          "text": [
            "KeyError: The key 'address' does not exist in the dictionary.\n"
          ]
        }
      ]
    },
    {
      "cell_type": "code",
      "source": [
        "# 12. Write a program that demonstrates using multiple except blocks to handle different types of exceptions.\n",
        "\n",
        "def handle_exceptions():\n",
        "    try:\n",
        "        num1 = int(input(\"Enter a number: \"))\n",
        "        num2 = int(input(\"Enter another number: \"))\n",
        "        result = num1 / num2\n",
        "        my_list = [1, 2, 3]\n",
        "        index = int(input(\"Enter an index: \"))\n",
        "        print(\"Element at index:\", my_list[index])\n",
        "    except ValueError:\n",
        "        print(\"Error: Invalid input! Please enter an integer.\")\n",
        "    except ZeroDivisionError:\n",
        "        print(\"Error: Division by zero is not allowed.\")\n",
        "    except IndexError:\n",
        "        print(\"Error: Index out of range.\")\n",
        "    except Exception as e:\n",
        "        print(f\"An unexpected error occurred: {e}\")\n",
        "    else:\n",
        "        print(\"Execution completed without errors.\")\n",
        "    finally:\n",
        "        print(\"End of exception handling.\")\n",
        "\n",
        "# Run the function\n",
        "handle_exceptions()\n",
        "\n"
      ],
      "metadata": {
        "colab": {
          "base_uri": "https://localhost:8080/"
        },
        "id": "y8L1Py5hjvK7",
        "outputId": "39c9d390-e8eb-4f6f-9fc7-08141b02b680"
      },
      "execution_count": null,
      "outputs": [
        {
          "output_type": "stream",
          "name": "stdout",
          "text": [
            "Enter a number: 12\n",
            "Enter another number: 3\n",
            "Enter an index: 1\n",
            "Element at index: 2\n",
            "Execution completed without errors.\n",
            "End of exception handling.\n"
          ]
        }
      ]
    },
    {
      "cell_type": "code",
      "source": [
        "# 13. How would you check if a file exists before attempting to read it in Python\u001f\n",
        "\n",
        "import os\n",
        "\n",
        "file_path = \"example.txt\"                         # (we have already the example text as Hello world, this is a file ... in earlier questions)\n",
        "\n",
        "if os.path.exists(file_path):\n",
        "    with open(file_path, \"r\") as file:\n",
        "        content = file.read()\n",
        "        print(content)\n",
        "else:\n",
        "    print(\"File does not exist.\")\n"
      ],
      "metadata": {
        "colab": {
          "base_uri": "https://localhost:8080/"
        },
        "id": "9AUc9n1qnAdR",
        "outputId": "932f82a8-35e6-4b0a-a4ae-2d533f46d277"
      },
      "execution_count": null,
      "outputs": [
        {
          "output_type": "stream",
          "name": "stdout",
          "text": [
            "Hello\n",
            "World\n",
            "This is a file\n",
            "This is a new line added to the file.\n",
            "\n"
          ]
        }
      ]
    },
    {
      "cell_type": "code",
      "source": [
        "# 14. Write a program that uses the logging module to log both informational and error messages.\n",
        "\n",
        "import logging\n",
        "\n",
        "# Configure the logging\n",
        "logging.basicConfig(level=logging.DEBUG, format='%(asctime)s - %(levelname)s - %(message)s')\n",
        "\n",
        "# Log an informational message\n",
        "logging.info(\"This is an informational message.\")\n",
        "\n",
        "# Log an error message\n",
        "logging.error(\"This is an error message.\")\n",
        "\n",
        "# Log a debug message (for example purposes)\n",
        "logging.debug(\"This is a debug message.\")\n",
        "\n",
        "# Log a warning message (for example purposes)\n",
        "logging.warning(\"This is a warning message.\")\n"
      ],
      "metadata": {
        "id": "jh-MVMf5oWFc",
        "outputId": "e557efb3-5f54-4054-85e3-b12936b82a56",
        "colab": {
          "base_uri": "https://localhost:8080/"
        }
      },
      "execution_count": null,
      "outputs": [
        {
          "output_type": "stream",
          "name": "stderr",
          "text": [
            "INFO:root:This is an informational message.\n",
            "2025-02-10 06:59:17,871 - INFO - This is an informational message.\n",
            "ERROR:root:This is an error message.\n",
            "2025-02-10 06:59:17,876 - ERROR - This is an error message.\n",
            "DEBUG:root:This is a debug message.\n",
            "2025-02-10 06:59:17,878 - DEBUG - This is a debug message.\n",
            "WARNING:root:This is a warning message.\n",
            "2025-02-10 06:59:17,880 - WARNING - This is a warning message.\n"
          ]
        }
      ]
    },
    {
      "cell_type": "code",
      "source": [
        "# 15.  Write a Python program that prints the content of a file and handles the case when the file is empty.\n",
        "\n",
        "file_path = \"example.txt\"          # (we have already the example text as Hello world, this is a file ... in earlier questions)\n",
        "\n",
        "try:\n",
        "    with open(file_path, \"r\") as file:\n",
        "        content = file.read()\n",
        "\n",
        "        if content:\n",
        "            print(content)\n",
        "        else:\n",
        "            print(\"The file is empty.\")\n",
        "except FileNotFoundError:\n",
        "    print(f\"Error: The file '{file_path}' does not exist.\")\n"
      ],
      "metadata": {
        "colab": {
          "base_uri": "https://localhost:8080/"
        },
        "id": "_83SCihIpfpV",
        "outputId": "37fe57da-6d88-4b1e-83e6-0a97f7a72c5d"
      },
      "execution_count": 12,
      "outputs": [
        {
          "output_type": "stream",
          "name": "stdout",
          "text": [
            "Hello, World!\n"
          ]
        }
      ]
    },
    {
      "cell_type": "code",
      "source": [
        "# 16. Demonstrate how to use memory profiling to check the memory usage of a small program.\n",
        "\n",
        "from memory_profiler import profile\n",
        "\n",
        "@profile\n",
        "def my_function():\n",
        "    a = [i for i in range(10)]\n",
        "    b = [i * 2 for i in a]\n",
        "    return b\n",
        "\n",
        "# Call the function to trigger memory profiling\n",
        "my_function()\n",
        "\n"
      ],
      "metadata": {
        "colab": {
          "base_uri": "https://localhost:8080/"
        },
        "id": "3gysHK4Xu-YX",
        "outputId": "59334945-4bc5-40c0-d66e-edfa0eb59f06"
      },
      "execution_count": null,
      "outputs": [
        {
          "output_type": "stream",
          "name": "stdout",
          "text": [
            "ERROR: Could not find file <ipython-input-8-345ef4252ebc>\n",
            "NOTE: %mprun can only be used on functions defined in physical files, and not in the IPython environment.\n"
          ]
        },
        {
          "output_type": "execute_result",
          "data": {
            "text/plain": [
              "[0, 2, 4, 6, 8, 10, 12, 14, 16, 18]"
            ]
          },
          "metadata": {},
          "execution_count": 8
        }
      ]
    },
    {
      "cell_type": "code",
      "source": [
        "# 17. Write a Python program to create and write a list of numbers to a file, one number per line.\n",
        "\n",
        "# List of numbers to write to the file\n",
        "numbers = [1, 2, 3, 4, 5, 6, 7, 8, 9, 10]\n",
        "\n",
        "# Open the file in write mode\n",
        "with open(\"numbers.txt\", \"w\") as file:\n",
        "    for number in numbers:\n",
        "        file.write(f\"{number}\\n\")\n",
        "\n",
        "print(\"Numbers have been written to 'numbers.txt'\")\n",
        "\n",
        "# Verify the file content by reading it back\n",
        "with open(\"numbers.txt\", \"r\") as file:\n",
        "    content = file.read()\n",
        "    print(\"Contents of numbers.txt:\")\n",
        "    print(content)\n"
      ],
      "metadata": {
        "colab": {
          "base_uri": "https://localhost:8080/"
        },
        "id": "Da716Omsvt8y",
        "outputId": "7dc55ba6-205d-4616-8652-f49a5d234ecb"
      },
      "execution_count": null,
      "outputs": [
        {
          "output_type": "stream",
          "name": "stdout",
          "text": [
            "Numbers have been written to 'numbers.txt'\n",
            "Contents of numbers.txt:\n",
            "1\n",
            "2\n",
            "3\n",
            "4\n",
            "5\n",
            "6\n",
            "7\n",
            "8\n",
            "9\n",
            "10\n",
            "\n"
          ]
        }
      ]
    },
    {
      "cell_type": "code",
      "source": [],
      "metadata": {
        "id": "qrN9mspjpfcZ"
      },
      "execution_count": null,
      "outputs": []
    },
    {
      "cell_type": "code",
      "source": [
        "# 18.  How would you implement a basic logging setup that logs to a file with rotation after 1MB?\n",
        "\n",
        "import logging\n",
        "from logging.handlers import RotatingFileHandler\n",
        "\n",
        "# Set up a rotating file handler\n",
        "log_file = 'app.log'\n",
        "log_handler = RotatingFileHandler(log_file, maxBytes=1e6, backupCount=3)  # 1MB = 1e6 bytes\n",
        "log_handler.setLevel(logging.INFO)\n",
        "\n",
        "# Create a formatter and attach it to the handler\n",
        "log_formatter = logging.Formatter('%(asctime)s - %(levelname)s - %(message)s')\n",
        "log_handler.setFormatter(log_formatter)\n",
        "\n",
        "# Set up the logger\n",
        "logger = logging.getLogger('RotatingLogger')\n",
        "logger.setLevel(logging.INFO)\n",
        "logger.addHandler(log_handler)\n",
        "\n",
        "# Generate multiple log entries to exceed 1MB\n",
        "for i in range(10):  # Adjust the range to quickly fill the log file\n",
        "    logger.info(f\"Log entry number {i}\")\n"
      ],
      "metadata": {
        "colab": {
          "base_uri": "https://localhost:8080/"
        },
        "id": "pb5SeuYyxBM_",
        "outputId": "3a7aeda9-f531-4414-c826-938e6c1807ec"
      },
      "execution_count": null,
      "outputs": [
        {
          "output_type": "stream",
          "name": "stderr",
          "text": [
            "INFO:RotatingLogger:Log entry number 0\n",
            "INFO:RotatingLogger:Log entry number 1\n",
            "INFO:RotatingLogger:Log entry number 2\n",
            "INFO:RotatingLogger:Log entry number 3\n",
            "INFO:RotatingLogger:Log entry number 4\n",
            "INFO:RotatingLogger:Log entry number 5\n",
            "INFO:RotatingLogger:Log entry number 6\n",
            "INFO:RotatingLogger:Log entry number 7\n",
            "INFO:RotatingLogger:Log entry number 8\n",
            "INFO:RotatingLogger:Log entry number 9\n"
          ]
        }
      ]
    },
    {
      "cell_type": "code",
      "source": [
        "# 19. Write a program that handles both IndexError and KeyError using a try-except block.\n",
        "\n",
        "def handle_errors():\n",
        "    # Example 1: IndexError (accessing an index out of range in a list)\n",
        "    my_list = [10, 20, 30]\n",
        "    try:\n",
        "        print(my_list[5])  # This will raise an IndexError\n",
        "    except IndexError as e:\n",
        "        print(f\"IndexError: {e}\")\n",
        "\n",
        "    # Example 2: KeyError (accessing a nonexistent key in a dictionary)\n",
        "    my_dict = {\"name\": \"Alice\", \"age\": 30}\n",
        "    try:\n",
        "        print(my_dict[\"gender\"])  # This will raise a KeyError\n",
        "    except KeyError as e:\n",
        "        print(f\"KeyError: {e}\")\n",
        "\n",
        "# Call the function to handle errors\n",
        "handle_errors()\n"
      ],
      "metadata": {
        "colab": {
          "base_uri": "https://localhost:8080/"
        },
        "id": "YQa1vlJkxWEQ",
        "outputId": "8c878697-123b-4dcb-cd9e-84176bb9191c"
      },
      "execution_count": null,
      "outputs": [
        {
          "output_type": "stream",
          "name": "stdout",
          "text": [
            "IndexError: list index out of range\n",
            "KeyError: 'gender'\n"
          ]
        }
      ]
    },
    {
      "cell_type": "code",
      "source": [
        "# 20. How would you open a file and read its contents using a context manager in Python?\n",
        "\n",
        "# Open the file using a context manager\n",
        "file_path = \"example.txt\"\n",
        "\n",
        "with open(file_path, \"r\") as file:\n",
        "    # Read the entire contents of the file\n",
        "    content = file.read()\n",
        "    print(content)  # Print the contents of the file"
      ],
      "metadata": {
        "colab": {
          "base_uri": "https://localhost:8080/"
        },
        "id": "Czc0JJ04pfW6",
        "outputId": "4b6db4fa-4acc-4488-d90f-19f70c1ce646"
      },
      "execution_count": 13,
      "outputs": [
        {
          "output_type": "stream",
          "name": "stdout",
          "text": [
            "Hello, World!\n"
          ]
        }
      ]
    },
    {
      "cell_type": "code",
      "source": [
        "# 21. Write a Python program that reads a file and prints the number of occurrences of a specific word.\n",
        "\n",
        "content = \"\"\"Hello world! This is a test file.\n",
        "Hello again, world.\n",
        "Hello once more!\"\"\"\n",
        "\n",
        "with open(\"example.txt\", \"w\") as file:\n",
        "    file.write(content)\n",
        "\n",
        "print(\"example.txt file created successfully!\")\n",
        "\n",
        "def count_word_occurrences(file_path, word):\n",
        "    try:\n",
        "        with open(file_path, \"r\") as file:\n",
        "            content = file.read()  # Read the entire file content\n",
        "            word_count = content.lower().split().count(word.lower())  # Count occurrences (case-insensitive)\n",
        "            print(f\"The word '{word}' appears {word_count} times in the file.\")\n",
        "    except FileNotFoundError:\n",
        "        print(f\"The file at {file_path} was not found.\")\n",
        "    except Exception as e:\n",
        "        print(f\"An error occurred: {e}\")\n",
        "\n",
        "# Specify the file path and the word you want to count\n",
        "file_path = \"example.txt\"\n",
        "word_to_count = \"hello\"\n",
        "\n",
        "# Call the function to count the word occurrences\n",
        "count_word_occurrences(file_path, word_to_count)\n"
      ],
      "metadata": {
        "colab": {
          "base_uri": "https://localhost:8080/"
        },
        "id": "zcPGwAdjpfUT",
        "outputId": "76f55704-652f-45ab-c095-59a1bcf964ef"
      },
      "execution_count": 16,
      "outputs": [
        {
          "output_type": "stream",
          "name": "stdout",
          "text": [
            "example.txt file created successfully!\n",
            "The word 'hello' appears 3 times in the file.\n"
          ]
        }
      ]
    },
    {
      "cell_type": "code",
      "source": [
        "# 22. How can you check if a file is empty before attempting to read its contents?\n",
        "\n",
        "def check_if_file_is_empty(file_path):\n",
        "    try:\n",
        "        with open(file_path, 'r') as file:\n",
        "            # Read the file content\n",
        "            content = file.read()\n",
        "            if content:\n",
        "                print(f\"The file '{file_path}' is not empty.\")\n",
        "            else:\n",
        "                print(f\"The file '{file_path}' is empty.\")\n",
        "    except FileNotFoundError:\n",
        "        print(f\"The file '{file_path}' was not found.\")\n",
        "\n",
        "# Example file path\n",
        "file_path = \"example.txt\"\n",
        "\n",
        "check_if_file_is_empty(file_path)\n"
      ],
      "metadata": {
        "colab": {
          "base_uri": "https://localhost:8080/"
        },
        "id": "xtNjGkAapfRZ",
        "outputId": "4d332757-0c9a-45a0-e430-0397ffdf6ca8"
      },
      "execution_count": 17,
      "outputs": [
        {
          "output_type": "stream",
          "name": "stdout",
          "text": [
            "The file 'example.txt' is not empty.\n"
          ]
        }
      ]
    },
    {
      "cell_type": "code",
      "source": [
        "# 23. Write a Python program that writes to a log file when an error occurs during file handling.\n",
        "\n",
        "import logging\n",
        "\n",
        "# Set up logging configuration\n",
        "logging.basicConfig(filename='file_handling.log', level=logging.ERROR,\n",
        "                    format='%(asctime)s - %(levelname)s - %(message)s')\n",
        "\n",
        "def read_file(file_path):\n",
        "    try:\n",
        "        with open(file_path, 'r') as file:\n",
        "            content = file.read()\n",
        "            print(content)  # Print the file content\n",
        "    except FileNotFoundError as e:\n",
        "        logging.error(f\"FileNotFoundError: {e} - File not found: {file_path}\")\n",
        "    except PermissionError as e:\n",
        "        logging.error(f\"PermissionError: {e} - Insufficient permissions to read the file: {file_path}\")\n",
        "    except Exception as e:\n",
        "        logging.error(f\"Unexpected error: {e} - Error while reading file: {file_path}\")\n",
        "\n",
        "def write_to_file(file_path, content):\n",
        "    try:\n",
        "        with open(file_path, 'w') as file:\n",
        "            file.write(content)\n",
        "            print(\"Content written to file successfully.\")\n",
        "    except PermissionError as e:\n",
        "        logging.error(f\"PermissionError: {e} - Insufficient permissions to write to the file: {file_path}\")\n",
        "    except Exception as e:\n",
        "        logging.error(f\"Unexpected error: {e} - Error while writing to file: {file_path}\")\n",
        "\n",
        "# Example usage:\n",
        "file_path = \"example.txt\"\n",
        "write_to_file(file_path, \"This is a test content.\")\n",
        "read_file(file_path)\n"
      ],
      "metadata": {
        "colab": {
          "base_uri": "https://localhost:8080/"
        },
        "id": "YceV0iiF0DQw",
        "outputId": "d1238219-6fcf-4bb3-fe84-f8f0855f4ad1"
      },
      "execution_count": null,
      "outputs": [
        {
          "output_type": "stream",
          "name": "stdout",
          "text": [
            "Content written to file successfully.\n",
            "This is a test content.\n"
          ]
        }
      ]
    }
  ]
}